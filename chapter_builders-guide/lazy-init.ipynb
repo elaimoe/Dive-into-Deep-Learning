{
 "cells": [
  {
   "cell_type": "code",
   "execution_count": 3,
   "id": "initial_id",
   "metadata": {
    "ExecuteTime": {
     "end_time": "2024-11-06T02:25:42.327257Z",
     "start_time": "2024-11-06T02:25:38.609904Z"
    }
   },
   "outputs": [],
   "source": [
    "import torch\n",
    "from torch import nn\n",
    "from d2l import torch as d2l"
   ]
  },
  {
   "cell_type": "code",
   "execution_count": 4,
   "id": "98bd2b118adb4e8c",
   "metadata": {},
   "outputs": [],
   "source": [
    "net = nn.Sequential(nn.LazyLinear(256), nn.ReLU(), nn.LazyLinear(10))"
   ]
  },
  {
   "cell_type": "code",
   "execution_count": 5,
   "id": "a2c9d7a4-55fe-49d7-9cd9-398bf87204a7",
   "metadata": {},
   "outputs": [
    {
     "data": {
      "text/plain": [
       "<UninitializedParameter>"
      ]
     },
     "execution_count": 5,
     "metadata": {},
     "output_type": "execute_result"
    }
   ],
   "source": [
    "net[0].weight"
   ]
  },
  {
   "cell_type": "code",
   "execution_count": 8,
   "id": "b40f20d9-a5d2-4662-8433-ba74414bb43d",
   "metadata": {},
   "outputs": [
    {
     "data": {
      "text/plain": [
       "torch.Size([256, 20])"
      ]
     },
     "execution_count": 8,
     "metadata": {},
     "output_type": "execute_result"
    }
   ],
   "source": [
    "X = torch.rand(2, 20)\n",
    "net(X)\n",
    "\n",
    "net[0].weight.shape"
   ]
  },
  {
   "cell_type": "code",
   "execution_count": 9,
   "id": "b6a18b68-384a-4799-affd-7f2abb2a52a1",
   "metadata": {},
   "outputs": [],
   "source": [
    "@d2l.add_to_class(d2l.Module)  #@save\n",
    "def apply_init(self, inputs, init=None):\n",
    "    self.forward(*inputs) # 首先执行前向传播\n",
    "    if init is not None:\n",
    "        self.net.apply(init) # 将初始化函数应用到模型的所有层"
   ]
  },
  {
   "cell_type": "code",
   "execution_count": null,
   "id": "c4fef148-c4e4-41ce-9fe4-c023cefc25e6",
   "metadata": {},
   "outputs": [],
   "source": [
    "1. 只有第一层会立即初始化，而其他层仍会延迟初始化，直到完整的前向传播发生。\n",
    "2. 如果维度不匹配，前向传播将会失败，并抛出错误。\n",
    "3. 如果输入的维度不一致，可以使用参数共享（Parameter Tying）技巧。"
   ]
  }
 ],
 "metadata": {
  "kernelspec": {
   "display_name": "Python 3 (ipykernel)",
   "language": "python",
   "name": "python3"
  },
  "language_info": {
   "codemirror_mode": {
    "name": "ipython",
    "version": 3
   },
   "file_extension": ".py",
   "mimetype": "text/x-python",
   "name": "python",
   "nbconvert_exporter": "python",
   "pygments_lexer": "ipython3",
   "version": "3.9.20"
  }
 },
 "nbformat": 4,
 "nbformat_minor": 5
}
