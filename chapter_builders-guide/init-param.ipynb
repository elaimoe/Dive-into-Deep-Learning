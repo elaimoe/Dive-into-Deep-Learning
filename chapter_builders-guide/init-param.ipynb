{
 "cells": [
  {
   "cell_type": "code",
   "execution_count": 14,
   "id": "39f79994700bbc9",
   "metadata": {
    "ExecuteTime": {
     "end_time": "2024-11-05T12:28:12.632104Z",
     "start_time": "2024-11-05T12:28:10.665251Z"
    }
   },
   "outputs": [],
   "source": [
    "import torch\n",
    "from torch import nn"
   ]
  },
  {
   "cell_type": "code",
   "execution_count": 15,
   "id": "460a99ee-e39a-4ad0-914c-b1a02080e39c",
   "metadata": {},
   "outputs": [
    {
     "data": {
      "text/plain": [
       "torch.Size([2, 1])"
      ]
     },
     "execution_count": 15,
     "metadata": {},
     "output_type": "execute_result"
    }
   ],
   "source": [
    "net = nn.Sequential(nn.LazyLinear(8), nn.ReLU(), nn.LazyLinear(1))\n",
    "X = torch.rand(size=(2, 4))\n",
    "net(X).shape"
   ]
  },
  {
   "cell_type": "code",
   "execution_count": 18,
   "id": "6583b1f3-9e02-40be-b6ac-57bb8ae357c4",
   "metadata": {},
   "outputs": [
    {
     "data": {
      "text/plain": [
       "(tensor([ 0.0134, -0.0113, -0.0097,  0.0163]), tensor(0.))"
      ]
     },
     "execution_count": 18,
     "metadata": {},
     "output_type": "execute_result"
    }
   ],
   "source": [
    "def init_normal(module): # 内置初始化器\n",
    "    if type(module) == nn.Linear:\n",
    "        nn.init.normal_(module.weight, mean=0, std=0.01) # 均值为 0，标准差为 0.01\n",
    "        nn.init.zeros_(module.bias) # 初始化偏置为 0\n",
    "\n",
    "net.apply(init_normal) # 遍历 net 中的所有层，并将 init_normal 函数应用到每一层。\n",
    "net[0].weight.data[0], net[0].bias.data[0]"
   ]
  },
  {
   "cell_type": "code",
   "execution_count": 23,
   "id": "853d522a-21b9-487b-a80c-40160cc6e515",
   "metadata": {},
   "outputs": [
    {
     "data": {
      "text/plain": [
       "(tensor([1., 1., 1., 1.]), tensor(0.))"
      ]
     },
     "execution_count": 23,
     "metadata": {},
     "output_type": "execute_result"
    }
   ],
   "source": [
    "def init_constant(module):\n",
    "    if type(module) == nn.Linear:\n",
    "        nn.init.constant_(module.weight, 1) # 初始化为常量 1，其余与上面的相同\n",
    "        nn.init.zeros_(module.bias)\n",
    "\n",
    "net.apply(init_constant)\n",
    "net[0].weight.data[0], net[0].bias.data[0]"
   ]
  },
  {
   "cell_type": "code",
   "execution_count": 28,
   "id": "e80a9b73-2167-4cff-8281-8cca32f4999b",
   "metadata": {},
   "outputs": [
    {
     "name": "stdout",
     "output_type": "stream",
     "text": [
      "tensor([-0.2455, -0.4017, -0.0877, -0.4805])\n",
      "tensor([[42., 42., 42., 42., 42., 42., 42., 42.]])\n"
     ]
    }
   ],
   "source": [
    "def init_xavier(module):\n",
    "    if type(module) == nn.Linear:\n",
    "        nn.init.xavier_uniform_(module.weight)\n",
    "        # 使用 nn.init.xavier_uniform_ 将 module.weight 的权重初始化为 Xavier 均匀分布\n",
    "        # 暂时先别管 Xavier 均匀分布是什么\n",
    "\n",
    "def init_42(module):\n",
    "    if type(module) == nn.Linear:\n",
    "        nn.init.constant_(module.weight, 42) # 上一个代码块用过，初始化为常数 42\n",
    "\n",
    "net[0].apply(init_xavier)\n",
    "net[2].apply(init_42)\n",
    "print(net[0].weight.data[0])\n",
    "print(net[2].weight.data)"
   ]
  },
  {
   "cell_type": "code",
   "execution_count": 33,
   "id": "95f0845d-464d-4f24-a8d8-aadae132926e",
   "metadata": {},
   "outputs": [
    {
     "name": "stdout",
     "output_type": "stream",
     "text": [
      "Init weight torch.Size([8, 4])\n",
      "Init weight torch.Size([1, 8])\n"
     ]
    },
    {
     "data": {
      "text/plain": [
       "tensor([[-7.7284,  5.2990,  8.0184,  8.7791],\n",
       "        [ 8.6085, -0.0000, -0.0000,  0.0000]], grad_fn=<SliceBackward0>)"
      ]
     },
     "execution_count": 33,
     "metadata": {},
     "output_type": "execute_result"
    }
   ],
   "source": [
    "def my_init(module):\n",
    "    if type(module) == nn.Linear:\n",
    "        print(\"Init\", *[(name, param.shape) for name, param in module.named_parameters()][0])\n",
    "        # module.named_parameters() 返回该层的参数生成器\n",
    "        # [(name, param.shape) for name, param in module.named_parameters()][0] 只取第一个参数的名字和形状（通常是 weight）\n",
    "        # 然后用 * 展开以便打印输出\n",
    "        nn.init.uniform_(module.weight, -10, 10)\n",
    "        # 用 nn.init.uniform_ 将 module.weight 初始化为在 -10 到 10 范围内均匀分布的值\n",
    "        module.weight.data *= module.weight.data.abs() >= 5\n",
    "        # 留权重绝对值大于或等于 5 的数值，将其他值置为 0\n",
    "\n",
    "net.apply(my_init)\n",
    "net[0].weight[:2]"
   ]
  },
  {
   "cell_type": "code",
   "execution_count": 34,
   "id": "ad1349b3-143b-4de7-9ff6-ad97be416f9b",
   "metadata": {},
   "outputs": [
    {
     "data": {
      "text/plain": [
       "tensor([42.0000,  6.2990,  9.0184,  9.7791])"
      ]
     },
     "execution_count": 34,
     "metadata": {},
     "output_type": "execute_result"
    }
   ],
   "source": [
    "net[0].weight.data[:] += 1\n",
    "net[0].weight.data[0, 0] = 42\n",
    "net[0].weight.data[0]"
   ]
  },
  {
   "cell_type": "markdown",
   "id": "d4b93d75-952b-403e-8685-95cf4463d232",
   "metadata": {},
   "source": [
    "Exercise: NO MORE"
   ]
  }
 ],
 "metadata": {
  "kernelspec": {
   "display_name": "Python 3 (ipykernel)",
   "language": "python",
   "name": "python3"
  },
  "language_info": {
   "codemirror_mode": {
    "name": "ipython",
    "version": 3
   },
   "file_extension": ".py",
   "mimetype": "text/x-python",
   "name": "python",
   "nbconvert_exporter": "python",
   "pygments_lexer": "ipython3",
   "version": "3.9.20"
  }
 },
 "nbformat": 4,
 "nbformat_minor": 5
}
