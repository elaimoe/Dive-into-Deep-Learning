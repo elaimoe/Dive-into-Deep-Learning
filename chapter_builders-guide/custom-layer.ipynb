{
 "cells": [
  {
   "cell_type": "code",
   "execution_count": 2,
   "id": "initial_id",
   "metadata": {
    "ExecuteTime": {
     "end_time": "2024-11-09T13:30:33.380027Z",
     "start_time": "2024-11-09T13:30:33.370028Z"
    }
   },
   "outputs": [],
   "source": [
    "import torch\n",
    "from torch import nn\n",
    "from torch.nn import functional as F\n",
    "from d2l import torch as d2l"
   ]
  },
  {
   "cell_type": "code",
   "execution_count": 3,
   "id": "cde74a5e-0bab-4d3b-b675-755e388b5a23",
   "metadata": {},
   "outputs": [],
   "source": [
    "class CenteredLayer(nn.Module):\n",
    "    def __init__(self):\n",
    "        super().__init__()\n",
    "\n",
    "    def forward(self, X):\n",
    "        return X - X.mean()"
   ]
  },
  {
   "cell_type": "code",
   "execution_count": 4,
   "id": "77ad8a0d-fdcc-43d3-9a60-809313193ae0",
   "metadata": {},
   "outputs": [
    {
     "data": {
      "text/plain": [
       "tensor([-2., -1.,  0.,  1.,  2.])"
      ]
     },
     "execution_count": 4,
     "metadata": {},
     "output_type": "execute_result"
    }
   ],
   "source": [
    "layer = CenteredLayer()\n",
    "layer(torch.tensor([1.0, 2, 3, 4, 5]))"
   ]
  },
  {
   "cell_type": "code",
   "execution_count": 5,
   "id": "50d12b08-7fda-405d-9ffd-ff55a58bae07",
   "metadata": {},
   "outputs": [
    {
     "name": "stderr",
     "output_type": "stream",
     "text": [
      "C:\\Users\\elaim\\miniconda3\\envs\\d2l\\lib\\site-packages\\torch\\nn\\modules\\lazy.py:180: UserWarning: Lazy modules are a new feature under heavy development so changes to the API or functionality can happen at any moment.\n",
      "  warnings.warn('Lazy modules are a new feature under heavy development '\n"
     ]
    }
   ],
   "source": [
    "net = nn.Sequential(nn.LazyLinear(128), CenteredLayer())"
   ]
  },
  {
   "cell_type": "code",
   "execution_count": 6,
   "id": "11f6d873-3b09-4871-a212-c6130b152cc1",
   "metadata": {},
   "outputs": [
    {
     "data": {
      "text/plain": [
       "tensor(7.4506e-09, grad_fn=<MeanBackward0>)"
      ]
     },
     "execution_count": 6,
     "metadata": {},
     "output_type": "execute_result"
    }
   ],
   "source": [
    "Y = net(torch.rand(4, 8))\n",
    "Y.mean()"
   ]
  },
  {
   "cell_type": "code",
   "execution_count": 7,
   "id": "94ed22cc-b789-4552-bcf5-5a7d92065478",
   "metadata": {},
   "outputs": [],
   "source": [
    "class MyLinear(nn.Module):\n",
    "    def __init__(self, in_units, units):\n",
    "        super().__init__()\n",
    "        self.weight = nn.Parameter(torch.randn(in_units, units))\n",
    "        self.bias = nn.Parameter(torch.randn(units,))\n",
    "\n",
    "    def forward(self, X):\n",
    "        linear = torch.matmul(X, self.weight.data) + self.bias.data\n",
    "        return F.relu(linear)"
   ]
  },
  {
   "cell_type": "code",
   "execution_count": 8,
   "id": "eaf1bfd0-fb82-4f10-a0bf-2b09b38a786e",
   "metadata": {},
   "outputs": [
    {
     "data": {
      "text/plain": [
       "Parameter containing:\n",
       "tensor([[-0.5330, -1.6268,  1.4759],\n",
       "        [-0.2228, -0.3814, -0.5851],\n",
       "        [-0.7432,  1.4242, -0.1002],\n",
       "        [-0.4747, -0.4207,  0.1872],\n",
       "        [-0.9578, -0.4291,  0.2885]], requires_grad=True)"
      ]
     },
     "execution_count": 8,
     "metadata": {},
     "output_type": "execute_result"
    }
   ],
   "source": [
    "linear = MyLinear(5, 3) # 给权重和偏置赋值\n",
    "linear.weight"
   ]
  },
  {
   "cell_type": "code",
   "execution_count": 9,
   "id": "93df1d62-d541-44ff-a081-86667be647e2",
   "metadata": {},
   "outputs": [
    {
     "data": {
      "text/plain": [
       "tensor([[0.0000, 0.0000, 0.0000],\n",
       "        [0.0000, 0.0000, 0.7772]])"
      ]
     },
     "execution_count": 9,
     "metadata": {},
     "output_type": "execute_result"
    }
   ],
   "source": [
    "linear(torch.rand(2, 5)) # 输入参数前向传播得到结果"
   ]
  },
  {
   "cell_type": "code",
   "execution_count": 10,
   "id": "6bee7a18-a7c8-4591-b532-f8a8b55fd7fd",
   "metadata": {},
   "outputs": [
    {
     "data": {
      "text/plain": [
       "tensor([[1.6436],\n",
       "        [0.0000]])"
      ]
     },
     "execution_count": 10,
     "metadata": {},
     "output_type": "execute_result"
    }
   ],
   "source": [
    "net = nn.Sequential(MyLinear(64, 8), MyLinear(8, 1))\n",
    "net(torch.rand(2, 64))"
   ]
  },
  {
   "cell_type": "code",
   "execution_count": null,
   "id": "4ad0ae3e-f40b-4a4e-8f1b-b7b69e48eb56",
   "metadata": {},
   "outputs": [],
   "source": [
    "\"\"\" Exercise \"\"\""
   ]
  },
  {
   "cell_type": "code",
   "id": "6e200aff-fdcc-48e3-ad71-7fbb74688b45",
   "metadata": {
    "ExecuteTime": {
     "end_time": "2024-11-10T03:45:01.384949Z",
     "start_time": "2024-11-10T03:45:01.369138Z"
    }
   },
   "source": [
    "# 1.\n",
    "import torch\n",
    "import torch.nn as nn\n",
    "\n",
    "class ReductionLayer(nn.Module):\n",
    "    def __init__(self, input_dim, output_dim):\n",
    "        super(ReductionLayer, self).__init__()\n",
    "        # 第一个参数：当前类名，它告诉super从哪个类的角度开始查找父类\n",
    "        # 第二个参数：当前类的实例。它告诉super这个方法或属性的调用是针对哪个具体实例的。\n",
    "        # 在这里两个参数的作用略有重合，传两个参数的主要场景还是在多重继承里，这里只有单一继承传一个就够了。\n",
    "        self.W = nn.Parameter(torch.randn(output_dim, input_dim, input_dim))\n",
    "        # 实际上output_dim, input_dim, input_dim对应于k, i, j的维度\n",
    "    \n",
    "    def forward(self, x):\n",
    "        # print(x)\n",
    "        x_expanded = x.unsqueeze(1).expand(-1, self.W.shape[1], -1)\n",
    "        # x.unsqueeze(1) 的作用是在 x 的第 1 维度上添加一个新维度。**添加新维度 1 **\n",
    "        # expand 用于将张量在某些维度上进行扩展而不复制数据。 \n",
    "        # 将 x 的第 1 维扩展到与 self.W.shape[1] 相同的大小，同时保持其他维度不变（-1 表示该维度不变）。\n",
    "        # print(x_expanded)\n",
    "        reduction_result = (self.W * x_expanded).sum(dim=(1, 2))\n",
    "        # **逐元素相乘**，然后在 1 和 2 两个维度上求和，这里不是矩阵乘法\n",
    "        return reduction_result\n",
    "        \n",
    "\n",
    "reduction_layer = ReductionLayer(input_dim=3, output_dim=2)\n",
    "x = torch.tensor([[1.0, 2.0, 3.0],\n",
    "                  [4.0, 5.0, 6.0]])\n",
    "reduction_output = reduction_layer(x)\n",
    "reduction_output\n"
   ],
   "outputs": [
    {
     "data": {
      "text/plain": [
       "tensor([-8.6209, -6.2672], grad_fn=<SumBackward1>)"
      ]
     },
     "execution_count": 17,
     "metadata": {},
     "output_type": "execute_result"
    }
   ],
   "execution_count": 17
  },
  {
   "cell_type": "code",
   "execution_count": 4,
   "id": "25d5ff569a65d62d",
   "metadata": {
    "ExecuteTime": {
     "end_time": "2024-11-10T01:16:11.742255Z",
     "start_time": "2024-11-10T01:16:11.709773Z"
    }
   },
   "outputs": [
    {
     "data": {
      "text/plain": [
       "tensor([[10.+0.j, -2.+2.j],\n",
       "        [22.+0.j, -2.+2.j]])"
      ]
     },
     "execution_count": 4,
     "metadata": {},
     "output_type": "execute_result"
    }
   ],
   "source": [
    "# 2.\n",
    "import torch.fft\n",
    "\n",
    "# Exercise 2: Define a layer that returns the leading half of Fourier coefficients\n",
    "class FourierHalfLayer(nn.Module):\n",
    "    def __init__(self):\n",
    "        super(FourierHalfLayer, self).__init__()\n",
    "\n",
    "    def forward(self, x):\n",
    "        # Compute the Fourier transform\n",
    "        fft_output = torch.fft.fft(x, dim=-1)\n",
    "        # Return the leading half of the coefficients\n",
    "        half_size = fft_output.shape[-1] // 2\n",
    "        return fft_output[..., :half_size]\n",
    "\n",
    "# Testing the FourierHalfLayer\n",
    "fourier_layer = FourierHalfLayer()\n",
    "x = torch.tensor([[1.0, 2.0, 3.0, 4.0], [4.0, 5.0, 6.0, 7.0]])  # Example input\n",
    "fourier_output = fourier_layer(x)\n",
    "fourier_output\n"
   ]
  }
 ],
 "metadata": {
  "kernelspec": {
   "display_name": "Python 3 (ipykernel)",
   "language": "python",
   "name": "python3"
  },
  "language_info": {
   "codemirror_mode": {
    "name": "ipython",
    "version": 3
   },
   "file_extension": ".py",
   "mimetype": "text/x-python",
   "name": "python",
   "nbconvert_exporter": "python",
   "pygments_lexer": "ipython3",
   "version": "3.9.20"
  }
 },
 "nbformat": 4,
 "nbformat_minor": 5
}
