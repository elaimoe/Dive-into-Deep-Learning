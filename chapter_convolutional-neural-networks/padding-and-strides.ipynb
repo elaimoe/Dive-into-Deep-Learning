{
 "cells": [
  {
   "cell_type": "code",
   "id": "initial_id",
   "metadata": {
    "collapsed": true,
    "ExecuteTime": {
     "end_time": "2024-11-23T10:36:10.422445Z",
     "start_time": "2024-11-23T10:36:10.403448Z"
    }
   },
   "source": [
    "import torch\n",
    "from torch import nn"
   ],
   "outputs": [],
   "execution_count": 11
  },
  {
   "metadata": {
    "ExecuteTime": {
     "end_time": "2024-11-23T10:36:10.469441Z",
     "start_time": "2024-11-23T10:36:10.455440Z"
    }
   },
   "cell_type": "code",
   "source": [
    "# We define a helper function to calculate convolutions. It initializes the\n",
    "# convolutional layer weights and performs corresponding dimensionality\n",
    "# elevations and reductions on the input and output\n",
    "# 定义一个辅助函数来计算卷积。它初始化卷积层权重，并执行输入和输出\n",
    "def comp_conv2d(conv2d, X):\n",
    "    # (1, 1) indicates that batch size and the number of channels are both 1\n",
    "    # 在 PyTorch 中，卷积层（如 nn.Conv2d）期望输入张量的形状为 (batch_size, in_channels, height, width)\n",
    "    X = X.reshape((1, 1) + X.shape) # 这里的加法实际上是拼接，得到了 (1, 1, 8, 8)\n",
    "    # print(X.shape)\n",
    "    Y = conv2d(X)\n",
    "    # Strip the first two dimensions: examples and channels\n",
    "    # 返回卷积结果 Y 的形状，去掉前两个维度\n",
    "    return Y.reshape(Y.shape[2:])\n",
    "\n",
    "# 1 row and column is padded on either side, so a total of 2 rows or columns\n",
    "# are added\n",
    "conv2d = nn.LazyConv2d(1, kernel_size=3, padding=1) # 输出通道数为 1，卷积核大小为 3*3，填充为 1\n",
    "X = torch.rand(size=(8, 8))\n",
    "comp_conv2d(conv2d, X).shape"
   ],
   "id": "bdeed048e871b2a",
   "outputs": [
    {
     "data": {
      "text/plain": [
       "torch.Size([8, 8])"
      ]
     },
     "execution_count": 12,
     "metadata": {},
     "output_type": "execute_result"
    }
   ],
   "execution_count": 12
  },
  {
   "metadata": {
    "ExecuteTime": {
     "end_time": "2024-11-23T10:36:10.565008Z",
     "start_time": "2024-11-23T10:36:10.548005Z"
    }
   },
   "cell_type": "code",
   "source": [
    "# We use a convolution kernel with height 5 and width 3. The padding on either\n",
    "# side of the height and width are 2 and 1, respectively\n",
    "conv2d = nn.LazyConv2d(1, kernel_size=(5, 3), padding=(2, 1))\n",
    "comp_conv2d(conv2d, X).shape"
   ],
   "id": "bff0faed8a73f9cd",
   "outputs": [
    {
     "data": {
      "text/plain": [
       "torch.Size([8, 8])"
      ]
     },
     "execution_count": 13,
     "metadata": {},
     "output_type": "execute_result"
    }
   ],
   "execution_count": 13
  },
  {
   "metadata": {
    "ExecuteTime": {
     "end_time": "2024-11-23T10:36:10.660384Z",
     "start_time": "2024-11-23T10:36:10.639717Z"
    }
   },
   "cell_type": "code",
   "source": [
    "conv2d = nn.LazyConv2d(1, kernel_size=3, padding=1, stride=2)\n",
    "comp_conv2d(conv2d, X).shape"
   ],
   "id": "e2e17f8caa3a3d4",
   "outputs": [
    {
     "data": {
      "text/plain": [
       "torch.Size([4, 4])"
      ]
     },
     "execution_count": 14,
     "metadata": {},
     "output_type": "execute_result"
    }
   ],
   "execution_count": 14
  },
  {
   "metadata": {
    "ExecuteTime": {
     "end_time": "2024-11-23T10:36:10.708504Z",
     "start_time": "2024-11-23T10:36:10.694474Z"
    }
   },
   "cell_type": "code",
   "source": [
    "conv2d = nn.LazyConv2d(1, kernel_size=(3, 5), padding=(0, 1), stride=(3, 4))\n",
    "comp_conv2d(conv2d, X).shape"
   ],
   "id": "42aebe1a94b512f6",
   "outputs": [
    {
     "data": {
      "text/plain": [
       "torch.Size([2, 2])"
      ]
     },
     "execution_count": 15,
     "metadata": {},
     "output_type": "execute_result"
    }
   ],
   "execution_count": 15
  },
  {
   "metadata": {},
   "cell_type": "code",
   "outputs": [],
   "execution_count": null,
   "source": [
    "\"\"\" Exercise\n",
    "1. 略\n",
    "2. 在音频处理中，步幅为 2 相当于每隔一个样本点进行采样，相当于降采样率一半。\n",
    "3. 镜像填充可以在边缘处复制像素值。例如，对于一维数据 `[1, 2, 3, 4, 5]`，在两侧各加一层镜像填充后变为 `[1, 1, 2, 3, 4, 5, 5]`\n",
    "4. 大于 1 的步幅可以减少计算量和内存消耗，特别是在处理大型输入时，有助于加速模型训练过程。\n",
    "5. 大于 1 的步幅可以增加感受野，使得模型能够捕捉更大范围的空间关系，有助于提高模型的泛化能力。\n",
    "6. 步幅是在卷积运算过程中控制卷积核在输入特征图上滑动的距离。它可以是一个整数值，表示每次滑动的像素距离。\n",
    "    步幅对应于卷积层的步进大小，影响输出特征图的分辨率。\n",
    "    当需要降低输出分辨率或减少计算量时，使用大于 1 的步幅会很有用。\n",
    "\"\"\""
   ],
   "id": "bbca5845c68dcf1"
  }
 ],
 "metadata": {
  "kernelspec": {
   "display_name": "Python 3",
   "language": "python",
   "name": "python3"
  },
  "language_info": {
   "codemirror_mode": {
    "name": "ipython",
    "version": 2
   },
   "file_extension": ".py",
   "mimetype": "text/x-python",
   "name": "python",
   "nbconvert_exporter": "python",
   "pygments_lexer": "ipython2",
   "version": "2.7.6"
  }
 },
 "nbformat": 4,
 "nbformat_minor": 5
}
