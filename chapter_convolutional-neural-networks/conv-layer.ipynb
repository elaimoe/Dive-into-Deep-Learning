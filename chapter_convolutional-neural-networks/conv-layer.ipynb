{
 "cells": [
  {
   "metadata": {
    "ExecuteTime": {
     "end_time": "2024-11-23T06:59:25.831788Z",
     "start_time": "2024-11-23T06:59:25.823756Z"
    }
   },
   "cell_type": "code",
   "source": [
    "import torch\n",
    "from torch import nn\n",
    "from d2l import torch as d2l"
   ],
   "id": "89eec994422e4289",
   "outputs": [],
   "execution_count": 28
  },
  {
   "metadata": {
    "ExecuteTime": {
     "end_time": "2024-11-23T06:59:25.878065Z",
     "start_time": "2024-11-23T06:59:25.862872Z"
    }
   },
   "cell_type": "code",
   "source": [
    "def corr2d(X, K):  #@save\n",
    "    \"\"\"Compute 2D cross-correlation.\"\"\"\n",
    "    # 计算二维互相关，X 是输入矩阵，K 是卷积核矩阵\n",
    "    h, w = K.shape\n",
    "    Y = torch.zeros((X.shape[0] - h + 1, X.shape[1] - w + 1))\n",
    "    for i in range(Y.shape[0]):\n",
    "        for j in range(Y.shape[1]):\n",
    "            Y[i, j] = (X[i:i + h, j:j + w] * K).sum()\n",
    "            # 这里的 Y[i, j] 是 Pytorch / NumPy 库特有的单括号索引操作，性能比双括号索引 Y[i][j] 更好。\n",
    "    return Y"
   ],
   "id": "9b11b7d283047e6c",
   "outputs": [],
   "execution_count": 29
  },
  {
   "metadata": {
    "ExecuteTime": {
     "end_time": "2024-11-23T06:59:25.894075Z",
     "start_time": "2024-11-23T06:59:25.882049Z"
    }
   },
   "cell_type": "code",
   "source": [
    "X = torch.tensor([[0.0, 1.0, 2.0], [3.0, 4.0, 5.0], [6.0, 7.0, 8.0]])\n",
    "K = torch.tensor([[0.0, 1.0], [2.0, 3.0]])\n",
    "corr2d(X, K)"
   ],
   "id": "396ac7134791e020",
   "outputs": [
    {
     "data": {
      "text/plain": [
       "tensor([[19., 25.],\n",
       "        [37., 43.]])"
      ]
     },
     "execution_count": 30,
     "metadata": {},
     "output_type": "execute_result"
    }
   ],
   "execution_count": 30
  },
  {
   "metadata": {
    "ExecuteTime": {
     "end_time": "2024-11-23T06:59:25.958312Z",
     "start_time": "2024-11-23T06:59:25.942338Z"
    }
   },
   "cell_type": "code",
   "source": [
    "class Conv2D(nn.Module):\n",
    "    def __init__(self, kernel_size):\n",
    "        super().__init__()\n",
    "        self.weight = nn.Parameter(torch.rand(kernel_size))\n",
    "        self.bias = nn.Parameter(torch.zeros(1))\n",
    "\n",
    "    def forward(self, x):\n",
    "        return corr2d(x, self.weight) + self.bias # 普通的前向传播"
   ],
   "id": "ddfadd85e85f736a",
   "outputs": [],
   "execution_count": 31
  },
  {
   "metadata": {
    "ExecuteTime": {
     "end_time": "2024-11-23T06:59:26.006435Z",
     "start_time": "2024-11-23T06:59:25.994314Z"
    }
   },
   "cell_type": "code",
   "source": [
    "# 图像中的目标边缘检测\n",
    "X = torch.ones((6, 8))\n",
    "X[:, 2:6] = 0 # 切片赋值\n",
    "X"
   ],
   "id": "638b812ac567e4e3",
   "outputs": [
    {
     "data": {
      "text/plain": [
       "tensor([[1., 1., 0., 0., 0., 0., 1., 1.],\n",
       "        [1., 1., 0., 0., 0., 0., 1., 1.],\n",
       "        [1., 1., 0., 0., 0., 0., 1., 1.],\n",
       "        [1., 1., 0., 0., 0., 0., 1., 1.],\n",
       "        [1., 1., 0., 0., 0., 0., 1., 1.],\n",
       "        [1., 1., 0., 0., 0., 0., 1., 1.]])"
      ]
     },
     "execution_count": 32,
     "metadata": {},
     "output_type": "execute_result"
    }
   ],
   "execution_count": 32
  },
  {
   "metadata": {
    "ExecuteTime": {
     "end_time": "2024-11-23T06:59:26.102454Z",
     "start_time": "2024-11-23T06:59:26.086455Z"
    }
   },
   "cell_type": "code",
   "source": [
    "K = torch.tensor([[1.0, -1.0]])\n",
    "Y = corr2d(X, K)\n",
    "Y"
   ],
   "id": "1bf64c8e38a5ddf0",
   "outputs": [
    {
     "data": {
      "text/plain": [
       "tensor([[ 0.,  1.,  0.,  0.,  0., -1.,  0.],\n",
       "        [ 0.,  1.,  0.,  0.,  0., -1.,  0.],\n",
       "        [ 0.,  1.,  0.,  0.,  0., -1.,  0.],\n",
       "        [ 0.,  1.,  0.,  0.,  0., -1.,  0.],\n",
       "        [ 0.,  1.,  0.,  0.,  0., -1.,  0.],\n",
       "        [ 0.,  1.,  0.,  0.,  0., -1.,  0.]])"
      ]
     },
     "execution_count": 33,
     "metadata": {},
     "output_type": "execute_result"
    }
   ],
   "execution_count": 33
  },
  {
   "metadata": {
    "ExecuteTime": {
     "end_time": "2024-11-23T06:59:26.195462Z",
     "start_time": "2024-11-23T06:59:26.179445Z"
    }
   },
   "cell_type": "code",
   "source": "corr2d(X.t(), K) # .t() 方法表示转置",
   "id": "ef6329d12d2fd73c",
   "outputs": [
    {
     "data": {
      "text/plain": [
       "tensor([[0., 0., 0., 0., 0.],\n",
       "        [0., 0., 0., 0., 0.],\n",
       "        [0., 0., 0., 0., 0.],\n",
       "        [0., 0., 0., 0., 0.],\n",
       "        [0., 0., 0., 0., 0.],\n",
       "        [0., 0., 0., 0., 0.],\n",
       "        [0., 0., 0., 0., 0.],\n",
       "        [0., 0., 0., 0., 0.]])"
      ]
     },
     "execution_count": 34,
     "metadata": {},
     "output_type": "execute_result"
    }
   ],
   "execution_count": 34
  },
  {
   "metadata": {
    "ExecuteTime": {
     "end_time": "2024-11-23T06:59:26.300869Z",
     "start_time": "2024-11-23T06:59:26.284841Z"
    }
   },
   "cell_type": "code",
   "source": [
    "# Construct a two-dimensional convolutional layer with 1 output channel and a\n",
    "# kernel of shape (1, 2). For the sake of simplicity, we ignore the bias here\n",
    "# 构建一个卷积层，输出通道数为 1，卷积核大小为 (1, 2)，忽略偏置项\n",
    "# LazyConv2d 是 PyTorch 中的一个懒惰初始化的卷积层，在第一次调用前会自动初始化权重\n",
    "conv2d = nn.LazyConv2d(1, kernel_size=(1, 2), bias=False)\n",
    "\n",
    "# The two-dimensional convolutional layer uses four-dimensional input and\n",
    "# output in the format of (example, channel, height, width), where the batch\n",
    "# size (number of examples in the batch) and the number of channels are both 1\n",
    "# 二维卷积层使用四维输入和输出，格式为 (样本数, 通道数, 高度, 宽度)，其中批量大小（样本数）和通道数均为 1\n",
    "X = X.reshape((1, 1, 6, 8))\n",
    "Y = Y.reshape((1, 1, 6, 7))\n",
    "lr = 3e-2  # Learning rate, 3e-2 是 Python 原生的科学计数语法\n",
    "\n",
    "for i in range(10):\n",
    "    Y_hat = conv2d(X) # 前向传播一次，顺便初始化了卷积核\n",
    "    l = (Y_hat - Y) ** 2 # 计算损失\n",
    "    conv2d.zero_grad() # 梯度清零\n",
    "    l.sum().backward() # 反向传播\n",
    "    # Update the kernel 更新卷积核\n",
    "    conv2d.weight.data[:] -= lr * conv2d.weight.grad\n",
    "    if (i + 1) % 2 == 0: # 每两步打印一次损失\n",
    "        print(f'epoch {i + 1}, loss {l.sum():.3f}')"
   ],
   "id": "75f993f1d4aa2a39",
   "outputs": [
    {
     "name": "stdout",
     "output_type": "stream",
     "text": [
      "epoch 2, loss 1.263\n",
      "epoch 4, loss 0.272\n",
      "epoch 6, loss 0.070\n",
      "epoch 8, loss 0.022\n",
      "epoch 10, loss 0.008\n"
     ]
    },
    {
     "name": "stderr",
     "output_type": "stream",
     "text": [
      "C:\\Users\\elaim\\miniconda3\\envs\\d2l\\lib\\site-packages\\torch\\nn\\modules\\lazy.py:180: UserWarning: Lazy modules are a new feature under heavy development so changes to the API or functionality can happen at any moment.\n",
      "  warnings.warn('Lazy modules are a new feature under heavy development '\n"
     ]
    }
   ],
   "execution_count": 35
  },
  {
   "metadata": {
    "ExecuteTime": {
     "end_time": "2024-11-23T06:59:26.558661Z",
     "start_time": "2024-11-23T06:59:26.546650Z"
    }
   },
   "cell_type": "code",
   "source": "conv2d.weight.data.reshape((1, 2))",
   "id": "6a273ad2e7a5924",
   "outputs": [
    {
     "data": {
      "text/plain": [
       "tensor([[ 0.9861, -1.0034]])"
      ]
     },
     "execution_count": 36,
     "metadata": {},
     "output_type": "execute_result"
    }
   ],
   "execution_count": 36
  },
  {
   "metadata": {
    "ExecuteTime": {
     "end_time": "2024-11-23T06:59:26.684784Z",
     "start_time": "2024-11-23T06:59:26.668787Z"
    }
   },
   "cell_type": "code",
   "source": [
    "''' Exercise\n",
    "1. 直接应用，应该可以检测得到边缘，转置 X 的话边缘检测的方向发生改变\n",
    "转置 K 的话，相当于进行了严格的卷积操作而不是互相关\n",
    "2. 这些核以后再设计\n",
    "3. 略\n",
    "4. 将输入张量和卷积核都展平为矩阵形式，然后进行乘法操作\n",
    "'''"
   ],
   "id": "955b492d0896c5e4",
   "outputs": [],
   "execution_count": null
  }
 ],
 "metadata": {
  "kernelspec": {
   "display_name": "Python 3",
   "language": "python",
   "name": "python3"
  },
  "language_info": {
   "codemirror_mode": {
    "name": "ipython",
    "version": 2
   },
   "file_extension": ".py",
   "mimetype": "text/x-python",
   "name": "python",
   "nbconvert_exporter": "python",
   "pygments_lexer": "ipython2",
   "version": "2.7.6"
  }
 },
 "nbformat": 4,
 "nbformat_minor": 5
}
