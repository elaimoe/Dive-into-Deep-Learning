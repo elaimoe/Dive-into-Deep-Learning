{
 "cells": [
  {
   "cell_type": "code",
   "id": "initial_id",
   "metadata": {
    "jupyter": {
     "is_executing": true
    },
    "ExecuteTime": {
     "start_time": "2024-11-13T10:24:18.118561Z"
    }
   },
   "source": [
    "from torch import nn\n",
    "from torch.nn import functional as F\n",
    "from d2l import torch as d2l\n",
    "\n",
    "\n",
    "# softmax 线性回归的简明实现\n",
    "class SoftmaxRegression(d2l.Classifier):  #@save\n",
    "    \"\"\"The softmax regression model.\"\"\"\n",
    "\n",
    "    def __init__(self, num_outputs, lr):\n",
    "        super().__init__()\n",
    "        self.save_hyperparameters()\n",
    "        self.net = nn.Sequential(nn.Flatten(), nn.LazyLinear(num_outputs))\n",
    "        # nn.Sequential 是 PyTorch 中用于顺序构建神经网络的容器。它允许我们将多个层按照定义的顺序连接起来。\n",
    "        # nn.Sequential 的工作原理是：将传入的多个层按顺序“串联”在一起，每一层的输出会自动成为下一层的输入。\n",
    "        # Flatten 默认从第 2 个维度开始展平，而保持第 1 个维度不变。\n",
    "        # LazyLinear 是一个延迟初始化的全连接层，它会在第一次前向传播时自动确定输入的特征数。\n",
    "\n",
    "    def forward(self, X):\n",
    "        return self.net(X) # 这个参数的传递有点离谱\n",
    "\n",
    "\n",
    "@d2l.add_to_class(d2l.Classifier)  #@save\n",
    "def loss(self, Y_hat, Y, averaged=True):\n",
    "    Y_hat = Y_hat.reshape((-1, Y_hat.shape[-1]))\n",
    "    Y = Y.reshape((-1,))\n",
    "    return F.cross_entropy(\n",
    "        Y_hat, Y, reduction='mean' if averaged else 'none')\n",
    "\n",
    "\n",
    "data = d2l.FashionMNIST(batch_size=256)\n",
    "model = SoftmaxRegression(num_outputs=10, lr=0.1)\n",
    "trainer = d2l.Trainer(max_epochs=10)\n",
    "trainer.fit(model, data)"
   ],
   "outputs": [
    {
     "name": "stderr",
     "output_type": "stream",
     "text": [
      "C:\\Users\\elaim\\miniconda3\\envs\\d2l\\lib\\site-packages\\torch\\nn\\modules\\lazy.py:180: UserWarning: Lazy modules are a new feature under heavy development so changes to the API or functionality can happen at any moment.\n",
      "  warnings.warn('Lazy modules are a new feature under heavy development '\n"
     ]
    }
   ],
   "execution_count": null
  },
  {
   "cell_type": "code",
   "execution_count": null,
   "id": "41c98fa6f4055bdd",
   "metadata": {},
   "outputs": [],
   "source": []
  }
 ],
 "metadata": {
  "kernelspec": {
   "display_name": "Python 3 (ipykernel)",
   "language": "python",
   "name": "python3"
  },
  "language_info": {
   "codemirror_mode": {
    "name": "ipython",
    "version": 3
   },
   "file_extension": ".py",
   "mimetype": "text/x-python",
   "name": "python",
   "nbconvert_exporter": "python",
   "pygments_lexer": "ipython3",
   "version": "3.9.20"
  }
 },
 "nbformat": 4,
 "nbformat_minor": 5
}
